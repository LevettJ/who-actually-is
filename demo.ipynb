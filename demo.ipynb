{
 "cells": [
  {
   "cell_type": "markdown",
   "id": "f579e7d0",
   "metadata": {},
   "source": [
    "# WHOactuallyIS Demo\n",
    "\n",
    "This notebook provides an example of the `whoactuallyis` package."
   ]
  },
  {
   "cell_type": "code",
   "execution_count": null,
   "id": "24880c95",
   "metadata": {},
   "outputs": [],
   "source": [
    "import whoactuallyis"
   ]
  },
  {
   "cell_type": "markdown",
   "id": "910d9781",
   "metadata": {},
   "source": [
    "Example use case: **domain name lookup**"
   ]
  },
  {
   "cell_type": "code",
   "execution_count": null,
   "id": "0dae8161",
   "metadata": {},
   "outputs": [],
   "source": [
    "domain_lookup = whoactuallyis.lookup('krystal.io')\n",
    "whoactuallyis.show_final_name(domain_lookup)"
   ]
  },
  {
   "cell_type": "markdown",
   "id": "da68c984",
   "metadata": {},
   "source": [
    "Or an **IP address lookup**"
   ]
  },
  {
   "cell_type": "code",
   "execution_count": null,
   "id": "e17629af",
   "metadata": {},
   "outputs": [],
   "source": [
    "ip_lookup = whoactuallyis.lookup('139.162.230.184')\n",
    "whoactuallyis.show_final_name(ip_lookup)"
   ]
  },
  {
   "cell_type": "markdown",
   "id": "34b49a93",
   "metadata": {},
   "source": [
    "Or an **ASN lookup**"
   ]
  },
  {
   "cell_type": "code",
   "execution_count": null,
   "id": "758fda40",
   "metadata": {},
   "outputs": [],
   "source": [
    "asn_lookup = whoactuallyis.lookup('AS2818')\n",
    "whoactuallyis.show_final_name(asn_lookup)"
   ]
  }
 ],
 "metadata": {
  "kernelspec": {
   "display_name": "wai-venv",
   "language": "python",
   "name": "python3"
  },
  "language_info": {
   "codemirror_mode": {
    "name": "ipython",
    "version": 3
   },
   "file_extension": ".py",
   "mimetype": "text/x-python",
   "name": "python",
   "nbconvert_exporter": "python",
   "pygments_lexer": "ipython3",
   "version": "3.11.7"
  }
 },
 "nbformat": 4,
 "nbformat_minor": 5
}
